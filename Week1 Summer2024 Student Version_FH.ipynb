{
 "cells": [
  {
   "cell_type": "markdown",
   "id": "9cade7c8",
   "metadata": {},
   "source": [
    "## <p style=\"color:blue\"> Introduction to Jupyter Notebooks\n",
    "Jupyter notebooks serve as a powerful tool for integrating executable code, code outputs, and text within a single cohesive file. These notebooks operate directly in a web browser, and interestingly, they do not necessitate an internet connection (unless you’re using a Jupyter Hub).\n",
    "\n",
    "The **kernel** is the essential component responsible for executing your code. It acts as the bridge connecting the notebook interface (as you perceive it) to the computational resources on your local machine, where the actual code runs.\n",
    "\n",
    "### <p style=\"color:blue\"> Types of Cells\n",
    "\n",
    "Jupyter Notebooks offer two types of cells: **Markdown** (like this one) and **Code**. Typically, you won’t execute the Markdown cells; instead, you’ll read their content. However, when you encounter a code cell, you’ll instruct Jupyter to run the code lines it contains.\n",
    "\n",
    "Code cells are interpreted by the Python kernel. In other words, the Python interpreter executes whatever it recognizes as code within the cell.\n",
    "\n"
   ]
  },
  {
   "cell_type": "code",
   "execution_count": null,
   "id": "6a921309",
   "metadata": {},
   "outputs": [],
   "source": [
    "# \"#\" in front of code is code annotation. The code is \n",
    "# not read by the computer.\n",
    "# You can run a cell by pressing shift-enter.\n"
   ]
  },
  {
   "cell_type": "markdown",
   "id": "8e0e85a8",
   "metadata": {},
   "source": [
    "### <p style=\"color:blue\"> Formatting Markdown\n",
    "Markdown is useful because it can be formatted using simple symbols. [Here's a full cheatsheet of markdown](https://github.com/adam-p/markdown-here/wiki/Markdown-Cheatsheet) for more tips, but the main syntax is below:\n",
    "* Bulleted lists are created using asterisks.\n",
    "* Numbered lists are created using numbers.\n",
    "* You can **bold** with two asterisks or underscores on either side (`**bold**`) or *italicize* with one asterisk or underscore (`*italicize*`)\n",
    "* Pound signs (#) create headers. More pound signs means a smaller header.\n"
   ]
  },
  {
   "cell_type": "markdown",
   "id": "f2b04f16",
   "metadata": {},
   "source": [
    "## <p style=\"color:red;\">Exercise 1:\n",
    "<p style=\"color:red;\">Create a new markdown cell and write first name in the format heading 1 and your family name in the format heading 2. Under your first and last name, add a new line with your student id. Make sure that your student id is bold.</p>\n",
    "\n"
   ]
  },
  {
   "cell_type": "code",
   "execution_count": null,
   "id": "770170b6",
   "metadata": {},
   "outputs": [],
   "source": []
  },
  {
   "cell_type": "markdown",
   "id": "e2cccd46",
   "metadata": {},
   "source": [
    "### <p style=\"color:blue\"> Automatic Code formatter\n",
    "nb_black is a simple extension for Jupyter Notebook and Jupyter Lab to beautify Python code automatically."
   ]
  },
  {
   "cell_type": "code",
   "execution_count": null,
   "id": "24b9e4eb",
   "metadata": {},
   "outputs": [],
   "source": [
    "!pip3 install nb-black"
   ]
  },
  {
   "cell_type": "code",
   "execution_count": null,
   "id": "7fa1aa90",
   "metadata": {},
   "outputs": [],
   "source": [
    "%load_ext nb_black"
   ]
  },
  {
   "cell_type": "markdown",
   "id": "96c17b95",
   "metadata": {},
   "source": [
    "# <p style=\"color:blue\"> Introduction to Python "
   ]
  },
  {
   "cell_type": "markdown",
   "id": "2f68990b",
   "metadata": {},
   "source": [
    "### <p style=\"color:blue\"> Order of Operations in Python\n",
    "\n",
    "The order of operations is the same as in mathematics!\n",
    "\n",
    "| Symbol |    Operation   | Usage |\n",
    "|:------:|:--------------:|:-----:|\n",
    "|    +   |    Addition    |  20+5 |\n",
    "|    -   |   Subtraction  |  20-5 |\n",
    "|    *   | Multiplication |  20*5 |\n",
    "|    /   |    Division    |  20/5 |\n",
    "|   **   |    Exponent    | 20**5 |\n",
    "| %      |    Modulo      |  20%5 |\n",
    "\n",
    "Note:\n",
    "* If you want integer division, use // "
   ]
  },
  {
   "cell_type": "markdown",
   "id": "84fef9f3",
   "metadata": {},
   "source": [
    "### <p style=\"color:blue\"> Variables\n",
    "Variables enable us to store a value and come back to it later. They are defined with `name = value`. *Assignment is not the same thing as equality,* as in mathematics.\n",
    "\n",
    "### Types of Variables\n",
    "Variables can be different types. Python lets you change the type of variables (the function is in parentheses below), however, *you cannot combine types*.\n",
    "\n",
    "* Integers (`int`)\n",
    "* String (`str`): letters, numbers, symbols, spaces\n",
    "* Float (`float`): any number with a decimal point (floating point number)\n",
    "\n",
    "You can check what type your variable is by using `type(variable)`.\n",
    "\n",
    "If you ever need help using a function (e.g., `type`) in Jupyter Notebook, you can enter the function followed by a question mark or `help(function)`. For example, `type?` or `help(type)`.\n",
    "\n",
    "Jupyter will only show you the output of the last line of code that you run. Thankfully, you can wrap commands in other commands. For example, we could write `print(type(a))`, if we want to see the output of `type(a)`.\n",
    "\n"
   ]
  },
  {
   "cell_type": "code",
   "execution_count": null,
   "id": "931387d0",
   "metadata": {},
   "outputs": [],
   "source": [
    "a = 5"
   ]
  },
  {
   "cell_type": "code",
   "execution_count": null,
   "id": "78620f8a",
   "metadata": {},
   "outputs": [],
   "source": [
    "type(a)"
   ]
  },
  {
   "cell_type": "code",
   "execution_count": null,
   "id": "318b44b0",
   "metadata": {},
   "outputs": [],
   "source": [
    "print(type(a))"
   ]
  },
  {
   "cell_type": "markdown",
   "id": "7b11db93",
   "metadata": {},
   "source": [
    "### <p style=\"color:blue\"> Object Mutability\n",
    "Reference: book Fluent Python, chapter 6: https://learning.oreilly.com/library/view/fluent-python-2nd/9781492056348/ch06.html#deep_x_shallow_copies"
   ]
  },
  {
   "cell_type": "code",
   "execution_count": null,
   "id": "0c62f0d7",
   "metadata": {},
   "outputs": [],
   "source": [
    "list_values = [1, 2, 3]  # creating a list\n",
    "set_values = (1, 2, 3)  # creating a tuple\n",
    "print(id(list_values))  # displays the unique identifier (memory address) \n",
    "# of the list\n",
    "print(id(set_values), \"\\n\")  # displays the unique identifier of the tuple\n",
    "\n",
    "list_values += [4, 5, 6]  # appends the elements [4, 5, 6] to the existing list\n",
    "set_values += (4, 5, 6)\n",
    "# attempts to append the elements (4, 5, 6) to the existing tuple set_values.\n",
    "# However, a new tuple and assigned to the name\n",
    "# because tuples are immutable (cannot be modified after creation).\n",
    "print(id(list_values))\n",
    "print(id(set_values))\n",
    "\n",
    "#Notice that the id is the same for the list but different for the tuple \n",
    "\n",
    "# In summary:\n",
    "\n",
    "# Lists are mutable (you can modify their contents), \n",
    "# while tuples are immutable (you cannot modify their contents \n",
    "# after creation).\n",
    "# The += operation works for lists (modifies the list in place), \n",
    "# but not for tuples.\n"
   ]
  },
  {
   "cell_type": "markdown",
   "id": "2432de9b",
   "metadata": {},
   "source": [
    "# <p style= color:blue>The Python Programming Language: Functions"
   ]
  },
  {
   "cell_type": "markdown",
   "id": "e5503e08",
   "metadata": {},
   "source": [
    "**`add_numbers`** is a function that takes two numbers and adds them together"
   ]
  },
  {
   "cell_type": "code",
   "execution_count": null,
   "id": "a091baf2",
   "metadata": {},
   "outputs": [],
   "source": [
    "def add_numbers(x, y):\n",
    "    return x + y"
   ]
  },
  {
   "cell_type": "code",
   "execution_count": null,
   "id": "30b454b9",
   "metadata": {},
   "outputs": [],
   "source": [
    "add_numbers(1, 2)"
   ]
  },
  {
   "cell_type": "markdown",
   "id": "d4bbf33e",
   "metadata": {},
   "source": [
    "**add_numbers updated to take an optional 3rd parameter. Using print allows printing of multiple expressions within a single cell.**"
   ]
  },
  {
   "cell_type": "code",
   "execution_count": null,
   "id": "5b8c7d95",
   "metadata": {},
   "outputs": [],
   "source": [
    "def add_numbers(x, y, z=None):  # z is an optional parameter\n",
    "    if z == None:\n",
    "        return x + y\n",
    "    else:\n",
    "        return x + y + z\n",
    "\n",
    "\n",
    "print(add_numbers(1, 2))\n",
    "\n",
    "print(add_numbers(1, 2, 3))"
   ]
  },
  {
   "cell_type": "markdown",
   "id": "5baed73d",
   "metadata": {},
   "source": [
    "# <p style= color:blue> Lambda comprehension\n",
    "<br>A lambda function is a small anonymous function. It is like inline coding. A lambda function can take any number of arguments, but can only have one expression.\n",
    "<br>\n",
    "Here's an example of lambda that takes in three parameters and adds the first two.\n",
    "    \n",
    "These little, concise functions are quite handy when you need to define small, one-time-use functions without explicitly naming them\n",
    "    \n",
    "The basic syntax is: lambda arguments: expression  \n",
    "\n",
    "Remember that lambda functions are limited to a single expression and cannot contain statements or complex logic."
   ]
  },
  {
   "cell_type": "code",
   "execution_count": null,
   "id": "97adea2e",
   "metadata": {},
   "outputs": [],
   "source": [
    "my_function = lambda a, b, c: a + b"
   ]
  },
  {
   "cell_type": "code",
   "execution_count": null,
   "id": "d3fafe37",
   "metadata": {},
   "outputs": [],
   "source": [
    "my_function(1, 2, 3)"
   ]
  },
  {
   "cell_type": "markdown",
   "id": "f9890cfb",
   "metadata": {},
   "source": [
    "## <p style=\"color:red;\">Exercise 2:\n",
    "<p style=\"color:red;\"> a)Write a function that get a list of integers and append number 7 to the list. Print list values before and after calling function. \n",
    "<br> b) write a function that get a tuple of integeres and append number 7 to the tuple. Print the set values before and after calling function.)</p></br>"
   ]
  },
  {
   "cell_type": "markdown",
   "id": "19bc9dd2",
   "metadata": {},
   "source": [
    "### Part a solution"
   ]
  },
  {
   "cell_type": "code",
   "execution_count": null,
   "id": "dfeb56ed",
   "metadata": {},
   "outputs": [],
   "source": []
  },
  {
   "cell_type": "code",
   "execution_count": null,
   "id": "7c861f57",
   "metadata": {},
   "outputs": [],
   "source": []
  },
  {
   "cell_type": "markdown",
   "id": "b9692159",
   "metadata": {},
   "source": [
    "### Part b solution"
   ]
  },
  {
   "cell_type": "code",
   "execution_count": null,
   "id": "56d2984d",
   "metadata": {},
   "outputs": [],
   "source": []
  },
  {
   "cell_type": "code",
   "execution_count": null,
   "id": "5cda6cc3",
   "metadata": {},
   "outputs": [],
   "source": []
  },
  {
   "cell_type": "markdown",
   "id": "bdb54239",
   "metadata": {},
   "source": [
    "## <p style=\"color:red;\">Exercise 3:\n",
    "<p style=\"color:red;\">\n",
    "change the following function to a lamda function<br>\n",
    "def my_fun(a):<br>\n",
    "    &nbsp;&nbsp;&nbsp;&nbsp;return a**2<br>\n",
    "my_fun(4)<br>"
   ]
  },
  {
   "cell_type": "code",
   "execution_count": null,
   "id": "33d8fda9",
   "metadata": {},
   "outputs": [],
   "source": [
    "#Solution\n"
   ]
  },
  {
   "cell_type": "markdown",
   "id": "2fd29d88",
   "metadata": {},
   "source": [
    "# <p style=color:blue> The Python Programming Language: Create random list\n",
    "    \n",
    "    \n",
    "%%time : Magic function that calculates the wall time that can be referred to as the total time required to execute that cell."
   ]
  },
  {
   "cell_type": "code",
   "execution_count": null,
   "id": "2499f6cd",
   "metadata": {},
   "outputs": [],
   "source": [
    "%%time  \n",
    "#must be the first thing in the cell\n",
    "\n",
    "import random\n",
    "\n",
    "random_list = []\n",
    "for i in range(1000):\n",
    "    random_list.append(random.randint(0, 100))\n",
    "    \n",
    "#https://docs.python.org/3/library/random.html\n",
    "\n",
    "print(random_list)"
   ]
  },
  {
   "cell_type": "code",
   "execution_count": null,
   "id": "9154a9c5",
   "metadata": {},
   "outputs": [],
   "source": [
    "# iterate over list\n",
    "for i in random_list:\n",
    "    print(i)"
   ]
  },
  {
   "cell_type": "code",
   "execution_count": null,
   "id": "754b75d8",
   "metadata": {},
   "outputs": [],
   "source": [
    "# iterate by index\n",
    "for i in range(len(random_list)):\n",
    "    print(random_list[i])"
   ]
  },
  {
   "cell_type": "code",
   "execution_count": null,
   "id": "54b9d651",
   "metadata": {},
   "outputs": [],
   "source": [
    "# check if a number is in the list\n",
    "if 65 in random_list:\n",
    "    print(\"True\")"
   ]
  },
  {
   "cell_type": "code",
   "execution_count": null,
   "id": "5683b02e",
   "metadata": {},
   "outputs": [],
   "source": [
    "# You can call list items by list[first_index:last_index:step]\n",
    "# print list from index 6 to 16\n",
    "random_list[6:16]"
   ]
  },
  {
   "cell_type": "code",
   "execution_count": null,
   "id": "6b79971a",
   "metadata": {},
   "outputs": [],
   "source": [
    "# print the last 10 item in the list\n",
    "random_list[-10:]"
   ]
  },
  {
   "cell_type": "code",
   "execution_count": null,
   "id": "7204f3d5",
   "metadata": {},
   "outputs": [],
   "source": [
    "# print the items 6 to 16, but even indexes\n",
    "random_list[6:16:2]"
   ]
  },
  {
   "cell_type": "markdown",
   "id": "af3b9121",
   "metadata": {},
   "source": [
    "# <p style=color:blue>  The Python Programming Language: Numerical Python (NumPy)"
   ]
  },
  {
   "cell_type": "code",
   "execution_count": null,
   "id": "c83ed260",
   "metadata": {},
   "outputs": [],
   "source": [
    "import numpy as np"
   ]
  },
  {
   "cell_type": "markdown",
   "id": "fff10d2e",
   "metadata": {},
   "source": [
    "## <p style=color:blue> Creating Arrays"
   ]
  },
  {
   "cell_type": "markdown",
   "id": "3856aef2",
   "metadata": {},
   "source": [
    "**Create a list and convert it to a numpy array**"
   ]
  },
  {
   "cell_type": "code",
   "execution_count": null,
   "id": "78c520e7",
   "metadata": {},
   "outputs": [],
   "source": [
    "mylist = [1, 2, 3]\n",
    "x = np.array(mylist)\n",
    "x"
   ]
  },
  {
   "cell_type": "markdown",
   "id": "54849b21",
   "metadata": {},
   "source": [
    "**Or just pass in a list directly**"
   ]
  },
  {
   "cell_type": "code",
   "execution_count": null,
   "id": "5fce13bf",
   "metadata": {},
   "outputs": [],
   "source": [
    "y = np.array([4, 5, 6])\n",
    "y"
   ]
  },
  {
   "cell_type": "markdown",
   "id": "b23f963f",
   "metadata": {},
   "source": [
    "**Pass in a list of lists to create a multidimensional array.**"
   ]
  },
  {
   "cell_type": "code",
   "execution_count": null,
   "id": "990b7df6",
   "metadata": {},
   "outputs": [],
   "source": [
    "m = np.array([[7, 8, 9], [10, 11, 12]])\n",
    "m"
   ]
  },
  {
   "cell_type": "markdown",
   "id": "afd6e492",
   "metadata": {},
   "source": [
    "**Use the shape method to find the dimensions of the array. (rows, columns)**"
   ]
  },
  {
   "cell_type": "code",
   "execution_count": null,
   "id": "a47b951c",
   "metadata": {},
   "outputs": [],
   "source": [
    "m.shape"
   ]
  },
  {
   "cell_type": "markdown",
   "id": "327b2e22",
   "metadata": {},
   "source": [
    "**`arange` returns evenly spaced values within a given interval.**"
   ]
  },
  {
   "cell_type": "code",
   "execution_count": null,
   "id": "4a1fac4e",
   "metadata": {},
   "outputs": [],
   "source": [
    "n = np.arange(0, 30, 2)  # start at 0 count up by 2, stop before 30\n",
    "n"
   ]
  },
  {
   "cell_type": "markdown",
   "id": "cb39437b",
   "metadata": {},
   "source": [
    "**`reshape` returns an array with the same data with a new shape.**"
   ]
  },
  {
   "cell_type": "code",
   "execution_count": null,
   "id": "383f6d16",
   "metadata": {},
   "outputs": [],
   "source": [
    "n = n.reshape(3, 5)  # reshape array to be 3x5\n",
    "n"
   ]
  },
  {
   "cell_type": "markdown",
   "id": "0b3d80de",
   "metadata": {},
   "source": [
    "\n",
    "**`linspace` returns evenly spaced numbers over a specified interval.**"
   ]
  },
  {
   "cell_type": "code",
   "execution_count": null,
   "id": "e912749a",
   "metadata": {},
   "outputs": [],
   "source": [
    "o = np.linspace(0, 4, 9)  # return 9 evenly spaced values from 0 to 4\n",
    "o"
   ]
  },
  {
   "cell_type": "markdown",
   "id": "9a191388",
   "metadata": {},
   "source": [
    "**`resize` changes the shape and size of array in-place.**"
   ]
  },
  {
   "cell_type": "code",
   "execution_count": null,
   "id": "21ab7e3f",
   "metadata": {},
   "outputs": [],
   "source": [
    "o.resize(3, 3)\n",
    "o"
   ]
  },
  {
   "cell_type": "markdown",
   "id": "78209087",
   "metadata": {},
   "source": [
    "**`ones` returns a new array of given shape and type, filled with ones.**"
   ]
  },
  {
   "cell_type": "code",
   "execution_count": null,
   "id": "90b8f6d1",
   "metadata": {},
   "outputs": [],
   "source": [
    "np.ones((3, 2))"
   ]
  },
  {
   "cell_type": "markdown",
   "id": "4c5742c2",
   "metadata": {},
   "source": [
    "**`zeros` returns a new array of given shape and type, filled with zeros.**"
   ]
  },
  {
   "cell_type": "code",
   "execution_count": null,
   "id": "327012f1",
   "metadata": {},
   "outputs": [],
   "source": [
    "np.zeros((2, 3))"
   ]
  },
  {
   "cell_type": "markdown",
   "id": "0a07eac0",
   "metadata": {},
   "source": [
    "**`eye` returns a 2-D array with ones on the diagonal and zeros elsewhere.**"
   ]
  },
  {
   "cell_type": "code",
   "execution_count": null,
   "id": "e595e561",
   "metadata": {},
   "outputs": [],
   "source": [
    "np.eye(3)"
   ]
  },
  {
   "cell_type": "markdown",
   "id": "4dc60049",
   "metadata": {},
   "source": [
    "\n",
    "**`diag` extracts a diagonal or constructs a diagonal array.**"
   ]
  },
  {
   "cell_type": "code",
   "execution_count": null,
   "id": "fb34fa0e",
   "metadata": {},
   "outputs": [],
   "source": [
    "np.diag(y)"
   ]
  },
  {
   "cell_type": "markdown",
   "id": "ae285721",
   "metadata": {},
   "source": [
    "**Create an array using repeating list**"
   ]
  },
  {
   "cell_type": "code",
   "execution_count": null,
   "id": "ad4a46e3",
   "metadata": {},
   "outputs": [],
   "source": [
    "np.array([1, 2, 3] * 3)"
   ]
  },
  {
   "cell_type": "markdown",
   "id": "379c169f",
   "metadata": {},
   "source": [
    "**Repeat elements of an array using `repeat`.**"
   ]
  },
  {
   "cell_type": "code",
   "execution_count": null,
   "id": "fb1f8ff2",
   "metadata": {},
   "outputs": [],
   "source": [
    "np.repeat([1, 2, 3], 3)"
   ]
  },
  {
   "cell_type": "markdown",
   "id": "c5ccb925",
   "metadata": {},
   "source": [
    "### Combining Arrays"
   ]
  },
  {
   "cell_type": "code",
   "execution_count": null,
   "id": "9df962e4",
   "metadata": {},
   "outputs": [],
   "source": [
    "p = np.ones([2, 3], int)\n",
    "p"
   ]
  },
  {
   "cell_type": "markdown",
   "id": "0bfce365",
   "metadata": {},
   "source": [
    "**Use `vstack` to stack arrays in sequence vertically (row wise).**"
   ]
  },
  {
   "cell_type": "code",
   "execution_count": null,
   "id": "b99cba23",
   "metadata": {},
   "outputs": [],
   "source": [
    "np.vstack([p, 2 * p])"
   ]
  },
  {
   "cell_type": "markdown",
   "id": "28591e17",
   "metadata": {},
   "source": [
    "**Use `hstack` to stack arrays in sequence horizontally (column wise).**"
   ]
  },
  {
   "cell_type": "code",
   "execution_count": null,
   "id": "0e30e2c1",
   "metadata": {},
   "outputs": [],
   "source": [
    "np.hstack([p, 2 * p])"
   ]
  },
  {
   "cell_type": "markdown",
   "id": "a1fa3705",
   "metadata": {},
   "source": [
    "## <p style= color:blue> Numerical Operations on Arrays"
   ]
  },
  {
   "cell_type": "markdown",
   "id": "b9e832dd",
   "metadata": {},
   "source": [
    "Use `+`, `-`, `*`, `/` and `**` to perform element wise addition, subtraction, multiplication, division and power."
   ]
  },
  {
   "cell_type": "code",
   "execution_count": null,
   "id": "5f08c71a",
   "metadata": {},
   "outputs": [],
   "source": [
    "print(x + y)  # elementwise addition     [1 2 3] + [4 5 6] = [5  7  9]\n",
    "print(x - y)  # elementwise subtraction  [1 2 3] - [4 5 6] = [-3 -3 -3]"
   ]
  },
  {
   "cell_type": "code",
   "execution_count": null,
   "id": "d34d364a",
   "metadata": {},
   "outputs": [],
   "source": [
    "print(x * y)  # elementwise multiplication  [1 2 3] * [4 5 6] = [4  10  18]\n",
    "print(x / y)  # elementwise divison         [1 2 3] / [4 5 6] = [0.25  0.4  0.5]"
   ]
  },
  {
   "cell_type": "code",
   "execution_count": null,
   "id": "e6252ab0",
   "metadata": {},
   "outputs": [],
   "source": [
    "print(x**2)  # elementwise power  [1 2 3] ^2 =  [1 4 9]"
   ]
  },
  {
   "cell_type": "markdown",
   "id": "a75c5798",
   "metadata": {},
   "source": [
    "<br>\n",
    "\n",
    "**Dot Product:**  \n",
    "\n",
    "$ \\begin{bmatrix}x_1 \\ x_2 \\ x_3\\end{bmatrix}\n",
    "\\cdot\n",
    "\\begin{bmatrix}y_1 \\\\ y_2 \\\\ y_3\\end{bmatrix}\n",
    "= x_1 y_1 + x_2 y_2 + x_3 y_3$\n",
    "\n",
    "<br>"
   ]
  },
  {
   "cell_type": "code",
   "execution_count": null,
   "id": "03b72e9f",
   "metadata": {},
   "outputs": [],
   "source": [
    "x.dot(y)  # dot product  1*4 + 2*5 + 3*6"
   ]
  },
  {
   "cell_type": "code",
   "execution_count": null,
   "id": "6d33b1e5",
   "metadata": {},
   "outputs": [],
   "source": [
    "z = np.array([y, y**2])\n"
   ]
  },
  {
   "cell_type": "code",
   "execution_count": null,
   "id": "2eec0dbe",
   "metadata": {},
   "outputs": [],
   "source": [
    "z.shape"
   ]
  },
  {
   "cell_type": "markdown",
   "id": "94253977",
   "metadata": {},
   "source": [
    "The shape of array `z` is `(2,3)` before transposing.\n",
    "\n",
    "\n",
    "\n"
   ]
  },
  {
   "cell_type": "markdown",
   "id": "afc71ad3",
   "metadata": {},
   "source": [
    "**Use `.T` to get the transpose**"
   ]
  },
  {
   "cell_type": "code",
   "execution_count": null,
   "id": "78a367bc",
   "metadata": {},
   "outputs": [],
   "source": [
    "z.T"
   ]
  },
  {
   "cell_type": "code",
   "execution_count": null,
   "id": "16cebac8",
   "metadata": {},
   "outputs": [],
   "source": [
    "z.T.shape"
   ]
  },
  {
   "cell_type": "markdown",
   "id": "c5578805",
   "metadata": {},
   "source": [
    "The number of rows has swapped with the number of columns.\n",
    "\n",
    "\n",
    "<br>"
   ]
  },
  {
   "cell_type": "markdown",
   "id": "afc52eae",
   "metadata": {},
   "source": [
    "\n",
    "**Use `.dtype` to see the data type of the elements in the array.**"
   ]
  },
  {
   "cell_type": "code",
   "execution_count": null,
   "id": "0ccde46a",
   "metadata": {},
   "outputs": [],
   "source": [
    "z.dtype"
   ]
  },
  {
   "cell_type": "markdown",
   "id": "1d7e2fd5",
   "metadata": {},
   "source": [
    "<br>\n",
    "\n",
    "**Use `.astype` to cast to a specific type.**"
   ]
  },
  {
   "cell_type": "code",
   "execution_count": null,
   "id": "6c0210ba",
   "metadata": {},
   "outputs": [],
   "source": [
    "z = z.astype(\"f\")\n",
    "z.dtype"
   ]
  },
  {
   "cell_type": "markdown",
   "id": "366d8350",
   "metadata": {},
   "source": [
    "<br>\n",
    "\n",
    "\n",
    "\n",
    "### <p style=color:blue> Math Functions"
   ]
  },
  {
   "cell_type": "markdown",
   "id": "b2b85318",
   "metadata": {},
   "source": [
    "Numpy has many built in math functions that can be performed on arrays."
   ]
  },
  {
   "cell_type": "code",
   "execution_count": null,
   "id": "a93605d3",
   "metadata": {},
   "outputs": [],
   "source": [
    "a = np.array([-4, -2, 1, 3, 5])"
   ]
  },
  {
   "cell_type": "code",
   "execution_count": null,
   "id": "196acd39",
   "metadata": {},
   "outputs": [],
   "source": [
    "a.sum()"
   ]
  },
  {
   "cell_type": "code",
   "execution_count": null,
   "id": "2e0c415e",
   "metadata": {},
   "outputs": [],
   "source": [
    "a.max()"
   ]
  },
  {
   "cell_type": "code",
   "execution_count": null,
   "id": "336e8d7d",
   "metadata": {},
   "outputs": [],
   "source": [
    "a.min()"
   ]
  },
  {
   "cell_type": "markdown",
   "id": "bfc6541a",
   "metadata": {},
   "source": [
    "<br>\n",
    "\n",
    "**`argmax` and `argmin` return the index of the maximum and minimum values in the array.**"
   ]
  },
  {
   "cell_type": "code",
   "execution_count": null,
   "id": "9cffa57a",
   "metadata": {},
   "outputs": [],
   "source": [
    "a.argmax()"
   ]
  },
  {
   "cell_type": "code",
   "execution_count": null,
   "id": "7ee2513e",
   "metadata": {},
   "outputs": [],
   "source": [
    "a.argmin()"
   ]
  },
  {
   "cell_type": "code",
   "execution_count": null,
   "id": "b391b6ae",
   "metadata": {},
   "outputs": [],
   "source": []
  },
  {
   "cell_type": "code",
   "execution_count": null,
   "id": "5be8d9a4",
   "metadata": {},
   "outputs": [],
   "source": [
    "a.mean()"
   ]
  },
  {
   "cell_type": "code",
   "execution_count": null,
   "id": "25a57093",
   "metadata": {},
   "outputs": [],
   "source": [
    "a.std() #note that the numpy std function uses the equation for population std"
   ]
  },
  {
   "cell_type": "markdown",
   "id": "fb1c76f6",
   "metadata": {},
   "source": [
    "<br>\n",
    "\n",
    "### <p style=color:blue> Array Indexing / Slicing"
   ]
  },
  {
   "cell_type": "code",
   "execution_count": null,
   "id": "83507dbc",
   "metadata": {},
   "outputs": [],
   "source": [
    "s = np.arange(13) ** 2\n",
    "s"
   ]
  },
  {
   "cell_type": "markdown",
   "id": "c2da15d8",
   "metadata": {},
   "source": [
    "<br>\n",
    "\n",
    "**Use bracket notation to get the value at a specific index. Remember that indexing starts at 0.**"
   ]
  },
  {
   "cell_type": "code",
   "execution_count": null,
   "id": "408ddccf",
   "metadata": {},
   "outputs": [],
   "source": [
    "s[0], s[4], s[-1]"
   ]
  },
  {
   "cell_type": "markdown",
   "id": "7f963cba",
   "metadata": {},
   "source": [
    "<br>\n",
    "\n",
    "**Use `:` to indicate a range. `array[start:stop]`**\n",
    "\n",
    "\n",
    "**Leaving `start` or `stop` empty will default to the beginning/end of the array.**"
   ]
  },
  {
   "cell_type": "code",
   "execution_count": null,
   "id": "66ce163b",
   "metadata": {},
   "outputs": [],
   "source": [
    "s[1:5]"
   ]
  },
  {
   "cell_type": "markdown",
   "id": "dde781f2",
   "metadata": {},
   "source": [
    "**Use negatives to count from the back.**"
   ]
  },
  {
   "cell_type": "code",
   "execution_count": null,
   "id": "bffb691a",
   "metadata": {},
   "outputs": [],
   "source": [
    "s[-4:]"
   ]
  },
  {
   "cell_type": "markdown",
   "id": "bc441cc4",
   "metadata": {},
   "source": [
    "<br>\n",
    "\n",
    "**A second `:` can be used to indicate step-size. `array[start:stop:stepsize]`**\n",
    "\n",
    "Here we are starting 5th element from the end, and counting backwards by 2 until the beginning of the array is reached."
   ]
  },
  {
   "cell_type": "code",
   "execution_count": null,
   "id": "8b0337d1",
   "metadata": {},
   "outputs": [],
   "source": [
    "s[-5::-2]"
   ]
  },
  {
   "cell_type": "markdown",
   "id": "6cefdcf8",
   "metadata": {},
   "source": [
    "\n",
    "**Let's look at a multidimensional array.**"
   ]
  },
  {
   "cell_type": "code",
   "execution_count": null,
   "id": "e08a2d18",
   "metadata": {},
   "outputs": [],
   "source": [
    "r = np.arange(36)\n",
    "r.resize((6, 6))\n",
    "r"
   ]
  },
  {
   "cell_type": "markdown",
   "id": "75520bd6",
   "metadata": {},
   "source": [
    "Use bracket notation to slice: `array[row, column]`"
   ]
  },
  {
   "cell_type": "code",
   "execution_count": null,
   "id": "4556ff01",
   "metadata": {},
   "outputs": [],
   "source": [
    "r[2, 2]"
   ]
  },
  {
   "cell_type": "markdown",
   "id": "4714fc70",
   "metadata": {},
   "source": [
    "\n",
    "And use `:` to select a range of rows or columns"
   ]
  },
  {
   "cell_type": "code",
   "execution_count": null,
   "id": "c002f8b4",
   "metadata": {},
   "outputs": [],
   "source": [
    "r[3, 3:6]"
   ]
  },
  {
   "cell_type": "markdown",
   "id": "6fb3a402",
   "metadata": {},
   "source": [
    "Here we are selecting all the rows up to (and not including) row 2, and all the columns up to (and not including) the last column."
   ]
  },
  {
   "cell_type": "code",
   "execution_count": null,
   "id": "1363fabe",
   "metadata": {},
   "outputs": [],
   "source": [
    "r[:2, :-1]"
   ]
  },
  {
   "cell_type": "markdown",
   "id": "f884744b",
   "metadata": {},
   "source": [
    "<br>\n",
    "This is a slice of the last row, and only every other element."
   ]
  },
  {
   "cell_type": "code",
   "execution_count": null,
   "id": "7c3bb154",
   "metadata": {},
   "outputs": [],
   "source": [
    "r[-1, ::2]"
   ]
  },
  {
   "cell_type": "markdown",
   "id": "026b774b",
   "metadata": {},
   "source": [
    "**We can also perform conditional indexing.**\n",
    "\n",
    "Here we are selecting values from the array that are greater than 30. (Also see `np.where`)"
   ]
  },
  {
   "cell_type": "code",
   "execution_count": null,
   "id": "d1b5bc9b",
   "metadata": {},
   "outputs": [],
   "source": [
    "r[r > 30]"
   ]
  },
  {
   "cell_type": "markdown",
   "id": "dd69e5c0",
   "metadata": {},
   "source": [
    "<br>\n",
    "Here we are assigning all values in the array that are greater than 30 to the value of 30."
   ]
  },
  {
   "cell_type": "code",
   "execution_count": null,
   "id": "fb521e81",
   "metadata": {},
   "outputs": [],
   "source": [
    "r[r > 30] = 30\n",
    "r"
   ]
  },
  {
   "cell_type": "markdown",
   "id": "64f4f48a",
   "metadata": {},
   "source": [
    "<br>\n",
    "\n",
    "## <p style=color:blue>  Copying Data"
   ]
  },
  {
   "cell_type": "markdown",
   "id": "f23b3569",
   "metadata": {},
   "source": [
    "<p style=color:purple> Be careful with copying and modifying arrays in NumPy!\n",
    "\n",
    "r2 is a slice of r"
   ]
  },
  {
   "cell_type": "code",
   "execution_count": null,
   "id": "4b633e78",
   "metadata": {},
   "outputs": [],
   "source": [
    "r2 = r[:3, :3]\n",
    "r2"
   ]
  },
  {
   "cell_type": "markdown",
   "id": "9054fbd1",
   "metadata": {},
   "source": [
    "\n",
    "Set this slice's values to zero ([:] selects the entire array)"
   ]
  },
  {
   "cell_type": "code",
   "execution_count": null,
   "id": "263f5780",
   "metadata": {},
   "outputs": [],
   "source": [
    "r2[:] = 0\n",
    "r2"
   ]
  },
  {
   "cell_type": "markdown",
   "id": "aa0dbc69",
   "metadata": {},
   "source": [
    "\n",
    "`r` has also been changed!"
   ]
  },
  {
   "cell_type": "code",
   "execution_count": null,
   "id": "138c7219",
   "metadata": {},
   "outputs": [],
   "source": [
    "r"
   ]
  },
  {
   "cell_type": "markdown",
   "id": "57cba874",
   "metadata": {},
   "source": [
    "\n",
    "<p style=color:purple> To avoid this, use `r.copy` to create a copy that will not affect the original array"
   ]
  },
  {
   "cell_type": "code",
   "execution_count": null,
   "id": "4a6422f0",
   "metadata": {},
   "outputs": [],
   "source": [
    "r_copy = r.copy()\n",
    "r_copy"
   ]
  },
  {
   "cell_type": "markdown",
   "id": "1a053d8c",
   "metadata": {},
   "source": [
    "\n",
    "**Now when r_copy is modified, r will not be changed.**"
   ]
  },
  {
   "cell_type": "code",
   "execution_count": null,
   "id": "00b71a3b",
   "metadata": {},
   "outputs": [],
   "source": [
    "r_copy[:] = 10\n",
    "print(r_copy, \"\\n\")\n",
    "print(r)"
   ]
  },
  {
   "cell_type": "markdown",
   "id": "93a9afdf",
   "metadata": {},
   "source": [
    "\n",
    "### Iterating Over Arrays"
   ]
  },
  {
   "cell_type": "markdown",
   "id": "ff3f420c",
   "metadata": {},
   "source": [
    "Let's create a new 4 by 3 array of random numbers 0-9."
   ]
  },
  {
   "cell_type": "code",
   "execution_count": null,
   "id": "d3fe216d",
   "metadata": {},
   "outputs": [],
   "source": [
    "test = np.random.randint(0, 10, (4, 3))\n",
    "test"
   ]
  },
  {
   "cell_type": "markdown",
   "id": "6ac00df3",
   "metadata": {},
   "source": [
    "\n",
    "#### Iterate by row:"
   ]
  },
  {
   "cell_type": "code",
   "execution_count": null,
   "id": "fa7ee25f",
   "metadata": {},
   "outputs": [],
   "source": [
    "for row in test:\n",
    "    print(row)"
   ]
  },
  {
   "cell_type": "markdown",
   "id": "909d9874",
   "metadata": {},
   "source": [
    "\n",
    "#### Iterate by index:"
   ]
  },
  {
   "cell_type": "code",
   "execution_count": null,
   "id": "84591e5a",
   "metadata": {},
   "outputs": [],
   "source": [
    "for i in range(len(test)):\n",
    "    print(test[i])"
   ]
  },
  {
   "cell_type": "markdown",
   "id": "d86fbc6d",
   "metadata": {},
   "source": [
    "#### Iterate by row and index:"
   ]
  },
  {
   "cell_type": "code",
   "execution_count": null,
   "id": "40c83839",
   "metadata": {},
   "outputs": [],
   "source": [
    "for i, row in enumerate(test):\n",
    "    print(\"row\", i, \"is\", row)"
   ]
  },
  {
   "cell_type": "markdown",
   "id": "bde2d2ed",
   "metadata": {},
   "source": [
    "**Use `zip` to iterate over multiple iterables.**"
   ]
  },
  {
   "cell_type": "code",
   "execution_count": null,
   "id": "c7c0f295",
   "metadata": {},
   "outputs": [],
   "source": [
    "test2 = test**2\n",
    "test2"
   ]
  },
  {
   "cell_type": "code",
   "execution_count": null,
   "id": "8a1a3b5a",
   "metadata": {},
   "outputs": [],
   "source": [
    "for i, j in zip(test, test2):\n",
    "    print(i, \"+\", j, \"=\", i + j)"
   ]
  },
  {
   "cell_type": "markdown",
   "id": "7abf04e5",
   "metadata": {},
   "source": [
    "#### <p style=\"color:red;\"> Exersise 4:\n",
    "<p style=\"color:red;\"> a)Create a numpy array of 20 items all 1 and name it A<br> b)Rearrange it by 4 rows and 5 columns\n",
    "<br> c)Create a numpy array of 5 random numbers and name it B<br> d)Replace the last row of array A with B\n",
    "<br> e)Do dot multiple of A with B and save it in a new array called C<br> f)Print every row of the array C by iterating every row<br> g)Print the value of row 2 and column 3 in array C</p>"
   ]
  },
  {
   "cell_type": "code",
   "execution_count": null,
   "id": "f3808143",
   "metadata": {},
   "outputs": [],
   "source": []
  }
 ],
 "metadata": {
  "kernelspec": {
   "display_name": "Python 3 (ipykernel)",
   "language": "python",
   "name": "python3"
  },
  "language_info": {
   "codemirror_mode": {
    "name": "ipython",
    "version": 3
   },
   "file_extension": ".py",
   "mimetype": "text/x-python",
   "name": "python",
   "nbconvert_exporter": "python",
   "pygments_lexer": "ipython3",
   "version": "3.9.13"
  }
 },
 "nbformat": 4,
 "nbformat_minor": 5
}
