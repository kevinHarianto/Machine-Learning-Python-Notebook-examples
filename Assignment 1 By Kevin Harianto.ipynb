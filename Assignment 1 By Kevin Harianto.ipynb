{
 "cells": [
  {
   "cell_type": "markdown",
   "id": "b3ccc406",
   "metadata": {},
   "source": [
    "## <p style=\"color:red;\">Exercise 1:\n",
    "<p style=\"color:red;\">Create a new markdown cell and write first name in the format heading 1 and your family name in the format heading 2. Under your first and last name, add a new line with your student id. Make sure that your student id is bold.</p>"
   ]
  },
  {
   "cell_type": "markdown",
   "id": "e328af70",
   "metadata": {},
   "source": [
    "# Kevin\n",
    "## Harianto\n",
    "Student ID: **991602128**"
   ]
  },
  {
   "cell_type": "markdown",
   "id": "af36fa6d",
   "metadata": {},
   "source": [
    "## <p style=\"color:red;\">Exercise 2:\n",
    "<p style=\"color:red;\"> a)Write a function that get a list of integers and append number 7 to the list. Print list values before and after calling function. \n",
    "<br> b) write a function that get a tuple of integeres and append number 7 to the tuple. Print the set values before and after calling function.)</p></br>"
   ]
  },
  {
   "cell_type": "markdown",
   "id": "dd151c67",
   "metadata": {},
   "source": [
    "### Solution a)"
   ]
  },
  {
   "cell_type": "code",
   "execution_count": 20,
   "id": "e6bfa888",
   "metadata": {},
   "outputs": [
    {
     "name": "stdout",
     "output_type": "stream",
     "text": [
      "[1, 2, 3]\n",
      "[1, 2, 3, 7]\n"
     ]
    }
   ],
   "source": [
    "list = [1, 2, 3]\n",
    "print(list)\n",
    "def appending_seven(list):\n",
    "    list.append(7)\n",
    "    return list\n",
    "print(appending_seven(list))"
   ]
  },
  {
   "cell_type": "markdown",
   "id": "4c4cb2d5",
   "metadata": {},
   "source": [
    "### Solution b)"
   ]
  },
  {
   "cell_type": "code",
   "execution_count": 27,
   "id": "e9f1ee1f",
   "metadata": {},
   "outputs": [
    {
     "name": "stdout",
     "output_type": "stream",
     "text": [
      "(1, 2, 3)\n",
      "(1, 2, 3, 7)\n"
     ]
    }
   ],
   "source": [
    "tuples = (1, 2, 3)\n",
    "print(tuples)\n",
    "def appending_seven_for_tuple(tuple):\n",
    "    tuple_add = tuple + (7,)\n",
    "    return tuple_add\n",
    "print(appending_seven_for_tuple(tuples))"
   ]
  },
  {
   "cell_type": "markdown",
   "id": "8118e8e9",
   "metadata": {},
   "source": [
    "## <p style=\"color:red;\">Exercise 3:\n",
    "<p style=\"color:red;\">\n",
    "change the following function to a lamda function<br>\n",
    "def my_fun(a):<br>\n",
    "    &nbsp;&nbsp;&nbsp;&nbsp;return a**2<br>\n",
    "my_fun(4)<br>"
   ]
  },
  {
   "cell_type": "code",
   "execution_count": 1,
   "id": "2c9c8c8d",
   "metadata": {},
   "outputs": [
    {
     "data": {
      "text/plain": [
       "16"
      ]
     },
     "execution_count": 1,
     "metadata": {},
     "output_type": "execute_result"
    }
   ],
   "source": [
    "my_fun = lambda a: a**2\n",
    "my_fun(4)"
   ]
  },
  {
   "cell_type": "markdown",
   "id": "8a89074e",
   "metadata": {},
   "source": [
    "#### <p style=\"color:red;\"> Exersise 4:\n",
    "<p style=\"color:red;\"> a)Create a numpy array of 20 items all 1 and name it A<br> b)Rearrange it by 4 rows and 5 columns\n",
    "<br> c)Create a numpy array of 5 random numbers and name it B<br> d)Replace the last row of array A with B\n",
    "<br> e)Do dot multiple of A with B and save it in a new array called C<br> f)Print every row of the array C by iterating every row<br> g)Print the value of row 2 and column 3 in array C</p>"
   ]
  },
  {
   "cell_type": "markdown",
   "id": "507cfae8",
   "metadata": {},
   "source": [
    "a)"
   ]
  },
  {
   "cell_type": "code",
   "execution_count": 2,
   "id": "09377d29",
   "metadata": {},
   "outputs": [],
   "source": [
    "import numpy as np\n",
    "A = np.array([1] * 20)"
   ]
  },
  {
   "cell_type": "code",
   "execution_count": 3,
   "id": "06af485f",
   "metadata": {},
   "outputs": [
    {
     "name": "stdout",
     "output_type": "stream",
     "text": [
      "[1 1 1 1 1 1 1 1 1 1 1 1 1 1 1 1 1 1 1 1]\n"
     ]
    }
   ],
   "source": [
    "print(A)"
   ]
  },
  {
   "cell_type": "markdown",
   "id": "6f1e6fe2",
   "metadata": {},
   "source": [
    "b)"
   ]
  },
  {
   "cell_type": "code",
   "execution_count": 4,
   "id": "4318ea19",
   "metadata": {},
   "outputs": [
    {
     "name": "stdout",
     "output_type": "stream",
     "text": [
      "[[1 1 1 1 1]\n",
      " [1 1 1 1 1]\n",
      " [1 1 1 1 1]\n",
      " [1 1 1 1 1]]\n"
     ]
    }
   ],
   "source": [
    "A = A.reshape(4, 5)\n",
    "print(A)"
   ]
  },
  {
   "cell_type": "markdown",
   "id": "70edfafb",
   "metadata": {},
   "source": [
    "c)"
   ]
  },
  {
   "cell_type": "code",
   "execution_count": 5,
   "id": "73f1b4e5",
   "metadata": {},
   "outputs": [
    {
     "data": {
      "text/plain": [
       "array([59, 56, 65, 63, 74])"
      ]
     },
     "execution_count": 5,
     "metadata": {},
     "output_type": "execute_result"
    }
   ],
   "source": [
    "B = np.random.randint(0, 100, 5)\n",
    "B"
   ]
  },
  {
   "cell_type": "markdown",
   "id": "91e8320f",
   "metadata": {},
   "source": [
    "d)"
   ]
  },
  {
   "cell_type": "code",
   "execution_count": 6,
   "id": "11ada0a0",
   "metadata": {},
   "outputs": [],
   "source": [
    "A[-1] = B"
   ]
  },
  {
   "cell_type": "code",
   "execution_count": 7,
   "id": "d26d1549",
   "metadata": {},
   "outputs": [
    {
     "data": {
      "text/plain": [
       "array([[ 1,  1,  1,  1,  1],\n",
       "       [ 1,  1,  1,  1,  1],\n",
       "       [ 1,  1,  1,  1,  1],\n",
       "       [59, 56, 65, 63, 74]])"
      ]
     },
     "execution_count": 7,
     "metadata": {},
     "output_type": "execute_result"
    }
   ],
   "source": [
    "A"
   ]
  },
  {
   "cell_type": "markdown",
   "id": "adaefaa8",
   "metadata": {},
   "source": [
    "e)"
   ]
  },
  {
   "cell_type": "code",
   "execution_count": 12,
   "id": "3ef7d956",
   "metadata": {},
   "outputs": [
    {
     "data": {
      "text/plain": [
       "array([[  59,   56,   65,   63,   74],\n",
       "       [  59,   56,   65,   63,   74],\n",
       "       [  59,   56,   65,   63,   74],\n",
       "       [3481, 3136, 4225, 3969, 5476]])"
      ]
     },
     "execution_count": 12,
     "metadata": {},
     "output_type": "execute_result"
    }
   ],
   "source": [
    "C = np.multiply(A, B) #using multiply due to how dot is not compatible with two different Dimensional Arrays.\n",
    "C"
   ]
  },
  {
   "cell_type": "markdown",
   "id": "f5010176",
   "metadata": {},
   "source": [
    "f)"
   ]
  },
  {
   "cell_type": "code",
   "execution_count": 13,
   "id": "aaf76b46",
   "metadata": {},
   "outputs": [
    {
     "name": "stdout",
     "output_type": "stream",
     "text": [
      "[59 56 65 63 74]\n",
      "[59 56 65 63 74]\n",
      "[59 56 65 63 74]\n",
      "[3481 3136 4225 3969 5476]\n"
     ]
    }
   ],
   "source": [
    "for row in C:\n",
    "    print(row)"
   ]
  },
  {
   "cell_type": "markdown",
   "id": "7f85acf5",
   "metadata": {},
   "source": [
    "g)"
   ]
  },
  {
   "cell_type": "code",
   "execution_count": 15,
   "id": "2af5eb66",
   "metadata": {},
   "outputs": [
    {
     "data": {
      "text/plain": [
       "63"
      ]
     },
     "execution_count": 15,
     "metadata": {},
     "output_type": "execute_result"
    }
   ],
   "source": [
    "C[2,3]"
   ]
  },
  {
   "cell_type": "code",
   "execution_count": null,
   "id": "47902cb6",
   "metadata": {},
   "outputs": [],
   "source": []
  }
 ],
 "metadata": {
  "kernelspec": {
   "display_name": "Python 3 (ipykernel)",
   "language": "python",
   "name": "python3"
  },
  "language_info": {
   "codemirror_mode": {
    "name": "ipython",
    "version": 3
   },
   "file_extension": ".py",
   "mimetype": "text/x-python",
   "name": "python",
   "nbconvert_exporter": "python",
   "pygments_lexer": "ipython3",
   "version": "3.9.13"
  }
 },
 "nbformat": 4,
 "nbformat_minor": 5
}
