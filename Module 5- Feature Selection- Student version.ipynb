{
 "cells": [
  {
   "cell_type": "markdown",
   "id": "5587e7c1",
   "metadata": {},
   "source": [
    "# Correlation"
   ]
  },
  {
   "cell_type": "code",
   "execution_count": 76,
   "id": "18b5f517",
   "metadata": {},
   "outputs": [
    {
     "name": "stdout",
     "output_type": "stream",
     "text": [
      "Correlation: -0.9999999999999999\n"
     ]
    }
   ],
   "source": [
    "import pandas as pd\n",
    "\n",
    "# Create a sample DataFrame\n",
    "data = {\n",
    "    'Column1': [1, 2, 3, 4, 5],\n",
    "    'Column2': [5, 4, 3, 2, 1]\n",
    "}\n",
    "\n",
    "df = pd.DataFrame(data)\n",
    "\n",
    "# Calculate the correlation\n",
    "correlation = df['Column1'].corr(df['Column2'])\n",
    "\n",
    "print(\"Correlation:\", correlation)\n"
   ]
  },
  {
   "cell_type": "code",
   "execution_count": 77,
   "id": "90af0ad7",
   "metadata": {},
   "outputs": [
    {
     "name": "stdout",
     "output_type": "stream",
     "text": [
      "Correlation Matrix:\n",
      "         Column1  Column2  Column3\n",
      "Column1      1.0     -1.0      1.0\n",
      "Column2     -1.0      1.0     -1.0\n",
      "Column3      1.0     -1.0      1.0\n"
     ]
    }
   ],
   "source": [
    "import pandas as pd\n",
    "\n",
    "# Create a sample DataFrame\n",
    "data = {\n",
    "    'Column1': [1, 2, 3, 4, 5],\n",
    "    'Column2': [5, 4, 3, 2, 1],\n",
    "    'Column3': [2, 4, 6, 8, 10]\n",
    "}\n",
    "\n",
    "df = pd.DataFrame(data)\n",
    "\n",
    "# Calculate the correlation matrix\n",
    "correlation_matrix = df.corr()\n",
    "\n",
    "print(\"Correlation Matrix:\")\n",
    "print(correlation_matrix)\n"
   ]
  },
  {
   "cell_type": "markdown",
   "id": "4145383d",
   "metadata": {},
   "source": [
    "# Assignment 5:\n",
    "\n",
    "1-Calculate the correlation matrix, which represents the correlation between each pair of variables (columns) in the Androidapp dataset, starting from column 8.\n",
    "\n",
    "2- Identify the pairs that have a correlation of 1 (100% correlated). It is necessary to consider that the correlation matrix includes redundant pairs, and the lower triangular pairs are repetitions of the pairs in the upper triangle. To remove redundant pairs, utilize the \"get_redundant_pairs\" function provided in the next cell.\n",
    "\n",
    "3- Print the pair of variables that are 100% correlated (correlation=1)\n",
    "4- When selecting features, focus on variables with high correlation. If two variables have a strong correlation, remove one of them from the feature set to avoid redundancy and mitigate the risk of overfitting. In this assignment, remove one variable from each pair of variables that are 100% correlated (correlation=1).\n",
    "\n",
    "5- Use SVM to model the detection of malware versus benign apps twice: once with all variables starting from column 8, and once with the reduced feature set obtained in step 4.\n",
    "\n",
    "6- Compare the new model, trained on the reduced feature set, with the previous model trained on all the features (the one done in Assignment 3).\n",
    "\n",
    "7- Analyze any differences observed between the two models.\n",
    "\n",
    "8- Perform PCA and identify the features that contribute to cumulative variance equal to or above 95%.\n",
    "\n",
    "9- Utilize SVM with the features obtained from step 8 in the PCA. Compare the results with the previous models that utilized the dropped correlated features.\n",
    "\n",
    "10- Include the \"%%time\" command in each cell for modeling to measure the time required for creating each model, and report the duration for each model creation."
   ]
  },
  {
   "cell_type": "code",
   "execution_count": 4,
   "id": "ba9a2869",
   "metadata": {},
   "outputs": [],
   "source": [
    "import pandas as pd\n",
    "from sklearn.model_selection import train_test_split\n",
    "from sklearn.svm import SVC\n",
    "from sklearn.metrics import precision_score, recall_score, accuracy_score, f1_score\n",
    "# list of metrics in sklearn: https://scikit-learn.org/stable/modules/model_evaluation.html\n",
    "app_df= pd.read_pickle('C:\\Ava\\Sheridan\\Data Science\\modle 5- feature selection\\Android_malware.pkl')"
   ]
  },
  {
   "cell_type": "markdown",
   "id": "482c012e",
   "metadata": {},
   "source": [
    "## SVM with all features"
   ]
  },
  {
   "cell_type": "code",
   "execution_count": 5,
   "id": "66844d92",
   "metadata": {},
   "outputs": [
    {
     "name": "stdout",
     "output_type": "stream",
     "text": [
      "Accuracy: 0.9593312245820154\n",
      "CPU times: total: 5.95 s\n",
      "Wall time: 5.97 s\n"
     ]
    }
   ],
   "source": [
    "# all features\n",
    "%%time\n",
    "# Split the data into features (X) and class (y)\n",
    "X = app_df.iloc[:, 8:]\n",
    "\n",
    "y = app_df['malware']\n",
    "\n",
    "# Split the data into training and testing sets\n",
    "X_train, X_test, y_train, y_test = train_test_split(X, y, test_size=0.2, random_state=42)\n",
    "\n",
    "# Create an SVM classifier object\n",
    "svm_classifier = SVC()\n",
    "\n",
    "# Train the SVM classifier\n",
    "svm_classifier.fit(X_train, y_train)\n",
    "\n",
    "# Make predictions on the test set\n",
    "y_pred = svm_classifier.predict(X_test)\n",
    "\n",
    "# Evaluate the accuracy of the classifier\n",
    "accuracy = accuracy_score(y_test, y_pred)\n",
    "\n",
    "print(\"Accuracy:\", accuracy)\n"
   ]
  },
  {
   "cell_type": "code",
   "execution_count": 35,
   "id": "3d5db3f8",
   "metadata": {},
   "outputs": [],
   "source": [
    "def get_redundant_pairs(df):\n",
    "    '''Get diagonal and lower triangular pairs of correlation matrix'''\n",
    "    pairs_to_drop = set()\n",
    "    cols = df.columns\n",
    "    for i in range(0, df.shape[1]):\n",
    "        for j in range(0, i+1):\n",
    "            pairs_to_drop.add((cols[i], cols[j]))\n",
    "    return pairs_to_drop"
   ]
  },
  {
   "cell_type": "code",
   "execution_count": null,
   "id": "c4685614",
   "metadata": {},
   "outputs": [],
   "source": []
  }
 ],
 "metadata": {
  "kernelspec": {
   "display_name": "Python 3 (ipykernel)",
   "language": "python",
   "name": "python3"
  },
  "language_info": {
   "codemirror_mode": {
    "name": "ipython",
    "version": 3
   },
   "file_extension": ".py",
   "mimetype": "text/x-python",
   "name": "python",
   "nbconvert_exporter": "python",
   "pygments_lexer": "ipython3",
   "version": "3.10.9"
  }
 },
 "nbformat": 4,
 "nbformat_minor": 5
}
